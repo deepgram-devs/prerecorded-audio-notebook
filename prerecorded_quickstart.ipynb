{
 "cells": [
  {
   "cell_type": "markdown",
   "metadata": {},
   "source": [
    "# Transcribe any audio file with Deepgram!\n",
    "\n",
    "**Make a copy of this notebook into your own drive, and follow the instructions below!** 🥳🥳🥳\n",
    "\n",
    "\n",
    "----------------------------\n",
    "\n",
    "# Get started:\n",
    "Running the following three cells will allow you to transcribe any audio you wish. The comments below point out the variables you can manipulate to modify your output as you wish.\n",
    "\n",
    "Before running this notebook, you'll need to have a couple audio files on-hand\n",
    "that you wish to transcribe. Once you have those files in a folder, you should be able to transcribe as you please. Just specify the filepaths as outlined below!\n",
    "\n",
    "And by the way, if you haven't yet signed up for Deepgram, check out this link here: https://dpgr.am/prerecorded-notebook-signup"
   ]
  },
  {
   "cell_type": "markdown",
   "metadata": {},
   "source": [
    "# Step 1: Dependencies\n",
    "\n",
    "Run this cell to download all necessary dependencies.\n",
    "\n",
    "Note: You can run a cell by clicking the play button on the left or by clicking on the cell and pressing `shift`+`ENTER` at the same time. (Or `shift` + `return` on Mac)."
   ]
  },
  {
   "cell_type": "code",
   "execution_count": null,
   "metadata": {},
   "outputs": [],
   "source": [
    "! pip install requests ffmpeg-python\n",
    "! pip install deepgram-sdk --upgrade\n",
    "! pip install requests"
   ]
  },
  {
   "cell_type": "markdown",
   "metadata": {},
   "source": [
    "# Step 2: Upload audio files to this Colab!\n",
    "\n",
    "On the left, you'll see a side-bar with a folder icon. Click that icon, and you'll see a series of folders. This is where you'll upload your audio files.\n",
    "\n",
    "You can upload your files directly into this directory by clicking the upload icon in the top left. The icon looks like a sheet of paper with an upwards-pointing arrow on it.\n",
    "\n",
    "Click the upload icon and select the audio file you wish to transcribe. It will take a few moments for the audio to appear, but once it does, move onto Step 3.\n",
    "\n",
    "(We have added an example audio, `preamble.wav` to this project.)"
   ]
  },
  {
   "cell_type": "code",
   "execution_count": null,
   "metadata": {},
   "outputs": [],
   "source": [
    "# Have you completed Step 2 above? 👀\n",
    "# Do you see your audio file in the folder on the left? 📂"
   ]
  },
  {
   "cell_type": "markdown",
   "metadata": {},
   "source": [
    "# Step 3: Transcription\n",
    "\n",
    "Fill in the following variables:\n",
    "\n",
    "\n",
    "* `DG_KEY` = Your personal Deepgram API key\n",
    "* `AUDIO_FILE` = The name of the audio file you wish to transcribe.\n",
    "\n",
    "\n",
    "Now run the cell! (`Shift` + `Enter`)\n",
    "\n",
    "-----------\n",
    "\n",
    "\n",
    "\n",
    "And by the way, if you're already a Deepgram user, and you're getting an error in this cell the most common fixes are:\n",
    "\n",
    "1. You may need to update your installation of the deepgram-sdk.\n",
    "2. You may need to check how many credits you have left in your Deepgram account."
   ]
  },
  {
   "cell_type": "code",
   "execution_count": null,
   "metadata": {},
   "outputs": [],
   "source": [
    "from deepgram import DeepgramClient, PrerecordedOptions, FileSource\n",
    "import requests\n",
    "\n",
    "# Deepgram API key\n",
    "DG_KEY = \"YOUR_DEEPGRAM_API_KEY\"\n",
    "\n",
    "# URL of the audio file\n",
    "AUDIO_FILE_URL = \"https://static.deepgram.com/examples/nasa-spacewalk-interview.wav\"\n",
    "\n",
    "# Path to save the transcript JSON file\n",
    "TRANSCRIPT_FILE = \"transcript.json\"\n",
    "\n",
    "def main():\n",
    "    try:\n",
    "        # STEP 1: Create a Deepgram client using the API key\n",
    "        deepgram = DeepgramClient(DG_KEY)\n",
    "\n",
    "        # Download the audio file from the URL\n",
    "        response = requests.get(AUDIO_FILE_URL)\n",
    "        if response.status_code == 200:\n",
    "            buffer_data = response.content\n",
    "        else:\n",
    "            print(\"Failed to download audio file\")\n",
    "            return\n",
    "\n",
    "        payload: FileSource = {\n",
    "            \"buffer\": buffer_data,\n",
    "        }\n",
    "\n",
    "        # STEP 2: Configure Deepgram options for audio analysis\n",
    "        options = PrerecordedOptions(\n",
    "            model=\"nova-2\",\n",
    "            smart_format=True,\n",
    "        )\n",
    "\n",
    "        # STEP 3: Call the transcribe_file method with the text payload and options\n",
    "        response = deepgram.listen.prerecorded.v(\"1\").transcribe_file(payload, options)\n",
    "\n",
    "        # STEP 4: Write the response JSON to a file\n",
    "        with open(TRANSCRIPT_FILE, \"w\") as transcript_file:\n",
    "            transcript_file.write(response.to_json(indent=4))\n",
    "\n",
    "        print(\"Transcript JSON file generated successfully.\")\n",
    "\n",
    "    except Exception as e:\n",
    "        print(f\"Exception: {e}\")\n",
    "\n",
    "if __name__ == \"__main__\":\n",
    "    main()\n"
   ]
  },
  {
   "cell_type": "code",
   "execution_count": null,
   "metadata": {},
   "outputs": [],
   "source": [
    "'''\n",
    "If the cell above succeeds, you should see JSON output file(s) in the same directory\n",
    "as your audio files. Note: There may be a small delay between when\n",
    "the cell finishes running and when the JSON file actually appears.\n",
    "This is normal. Just wait a few moments for the JSONs to appear.\n",
    "It should take less than a minute, depending on the size of your file(s).\n",
    "'''"
   ]
  },
  {
   "cell_type": "markdown",
   "metadata": {},
   "source": []
  },
  {
   "cell_type": "markdown",
   "metadata": {},
   "source": [
    "# Step 4: Check out your transcription!\n",
    "\n",
    "The function below parses the output JSON and prints out the pure transcription of one of the files you just transcribed! (Make sure\n",
    "the file you're trying to examine is indeed already loaded into the\n",
    "folder on the left!)\n",
    "\n",
    "**Set the `OUTPUT` variable to the name of the file you wish to see the transcription of.**\n",
    "\n",
    "Then run this cell (`Shift`+`Enter`) to see a sentence-by-sentence transcription of your audio!"
   ]
  },
  {
   "cell_type": "code",
   "execution_count": null,
   "metadata": {},
   "outputs": [],
   "source": [
    "import json\n",
    "# Set this variable to the path of the output file you wish to read\n",
    "OUTPUT = 'transcript.json'\n",
    "\n",
    "\n",
    "# The JSON is loaded with information, but if you just want to read the\n",
    "# transcript, run the code below!\n",
    "def print_transcript(transcription_file):\n",
    "  with open(transcription_file, \"r\") as file:\n",
    "        data = json.load(file)\n",
    "        result = data['results']['channels'][0]['alternatives'][0]['transcript']\n",
    "        result = result.split('.')\n",
    "        for sentence in result:\n",
    "          print(sentence + '.')\n",
    "\n",
    "print_transcript(OUTPUT)"
   ]
  }
 ],
 "metadata": {
  "kernelspec": {
   "display_name": "sdk",
   "language": "python",
   "name": "python3"
  },
  "language_info": {
   "codemirror_mode": {
    "name": "ipython",
    "version": 3
   },
   "file_extension": ".py",
   "mimetype": "text/x-python",
   "name": "python",
   "nbconvert_exporter": "python",
   "pygments_lexer": "ipython3",
   "version": "3.10.10"
  }
 },
 "nbformat": 4,
 "nbformat_minor": 2
}
